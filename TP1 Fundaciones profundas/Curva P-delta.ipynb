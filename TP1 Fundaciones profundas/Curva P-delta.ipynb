{
 "cells": [
  {
   "cell_type": "markdown",
   "metadata": {},
   "source": [
    "# Curva carga-asentamiento de un pilote individual en suelo uniforme"
   ]
  },
  {
   "cell_type": "code",
   "execution_count": 17,
   "metadata": {},
   "outputs": [],
   "source": [
    "import numpy as np\n",
    "import matplotlib.pyplot as plt"
   ]
  },
  {
   "cell_type": "markdown",
   "metadata": {},
   "source": [
    "En primer lugar definimos los datos de la estructura y del suelo"
   ]
  },
  {
   "cell_type": "code",
   "execution_count": 14,
   "metadata": {},
   "outputs": [],
   "source": [
    "#Pilote\n",
    "d=1 #diametro (m)\n",
    "H=15 #longitud (m)\n",
    "\n",
    "#Suelo\n",
    "G0=105000 #Modulo de corte inicial(kPa)\n",
    "c=35 #cohesion (kPa)\n",
    "phi=32 #angulo de friccion (deg)\n",
    "nu=0.3 #coeficiente de poisson (-)\n",
    "fu=0.1 #friccion ultima \n",
    "Qpu=1 #carga ultima por punta\n",
    "Rf=0.5 #relacion de falla\n",
    "\n",
    "#Calculos auxiliares\n",
    "\n",
    "A=np.pi*(d**2)/4 #area de la seccion (m2)"
   ]
  },
  {
   "cell_type": "markdown",
   "metadata": {},
   "source": [
    "Definimos las fuciones que gobiernan el comportamiento por fuste"
   ]
  },
  {
   "cell_type": "code",
   "execution_count": 10,
   "metadata": {},
   "outputs": [],
   "source": [
    "#Rigidez inicial del fuste\n",
    "def f_Kf(d,H,G0,nu):\n",
    "    R=d/2 #radio medio del pilote\n",
    "    p=np.pi*d #perimetro del pilote\n",
    "    rm=2*H*(1-nu) #radio donde la distorcion se hace despreciable\n",
    "    Kf=(G0*H*p)/(R*np.log(rm/R))\n",
    "    return Kf\n",
    "\n",
    "#Relacion carga-deslizamiento por fuste\n",
    "def f_Pf(delta,Kf,Rf,fu):\n",
    "    Pf=delta/(1/Kf+Rf*delta/fu)\n",
    "    return Pf\n",
    "\n",
    "#Rigidez inicial de punta\n",
    "def f_Kp(d,G0,nu):\n",
    "    R=d/2 #radio medio del pilote\n",
    "    Kp=2*np.pi*G0*R/(1-nu)\n",
    "    return Kp\n",
    "\n",
    "#Relacion de carga-deslizamiento por punta\n",
    "def f_Pp(delta,Kp,Rf,Qpu):\n",
    "    Pp=delta/(1/Kp+Rf*delta/Qpu)\n",
    "    return Pp"
   ]
  },
  {
   "cell_type": "markdown",
   "metadata": {},
   "source": [
    "Y graficamos la respuesta en funcion de un desplazamiento impuesto"
   ]
  },
  {
   "cell_type": "code",
   "execution_count": 35,
   "metadata": {},
   "outputs": [
    {
     "data": {
      "image/png": "[encoded data removed]",
      "text/plain": [
       "<Figure size 432x288 with 1 Axes>"
      ]
     },
     "metadata": {
      "needs_background": "light"
     },
     "output_type": "display_data"
    }
   ],
   "source": [
    "n=200 #puntos a plotear\n",
    "delta=np.linspace(0, 0.0005, num=n) #vector de desplazamientos\n",
    "Pf=np.zeros(n) #vector de carga por fuste\n",
    "Pp=np.zeros(n) #vector de carga por punta\n",
    "P=np.zeros(n) #vector de carga total\n",
    "\n",
    "#Calculo las rigideces por punta y fuste \n",
    "Kf=f_Kf(d,H,G0,nu)\n",
    "Kp=f_Kp(d,G0,nu)\n",
    "\n",
    "for i in range(len(delta)):\n",
    "    delta_i=delta[i]\n",
    "    Pf_i=f_Pf(delta_i,Kf,Rf,fu)\n",
    "    Pp_i=f_Pp(delta_i,Kp,Rf,Qpu)\n",
    "    P_i=Pf_i+Pp_i\n",
    "    \n",
    "    Pf[i]=Pf_i\n",
    "    Pp[i]=Pp_i\n",
    "    P[i]=P_i\n",
    "\n",
    "plt.plot(delta,Pf,label='Fuste')\n",
    "plt.plot(delta,Pp,label='Punta')\n",
    "plt.plot(delta,P,label='Total')\n",
    "plt.xlabel('Deformacion (m)')\n",
    "plt.ylabel('Carga (kN)')\n",
    "plt.legend()\n",
    "plt.grid()\n",
    "plt.show()\n",
    "\n",
    "\n"
   ]
  }
 ],
 "metadata": {
  "kernelspec": {
   "display_name": "intse",
   "language": "python",
   "name": "intse"
  },
  "language_info": {
   "codemirror_mode": {
    "name": "ipython",
    "version": 3
   },
   "file_extension": ".py",
   "mimetype": "text/x-python",
   "name": "python",
   "nbconvert_exporter": "python",
   "pygments_lexer": "ipython3",
   "version": "3.7.3"
  }
 },
 "nbformat": 4,
 "nbformat_minor": 2
}
