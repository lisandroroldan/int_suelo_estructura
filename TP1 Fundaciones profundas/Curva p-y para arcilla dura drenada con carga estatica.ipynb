{
 "cells": [
  {
   "cell_type": "markdown",
   "metadata": {},
   "source": [
    "# Curva p-y para arcilla dura drenada con carga estatica# "
   ]
  },
  {
   "cell_type": "code",
   "execution_count": 1,
   "metadata": {},
   "outputs": [],
   "source": [
    "import numpy as np\n",
    "import matplotlib.pyplot as plt"
   ]
  },
  {
   "cell_type": "markdown",
   "metadata": {},
   "source": [
    "Construir las curvas p-y para un pilote de 61cm de diametro a las profundidades de 0.6, 1.5, 3 y 12m."
   ]
  },
  {
   "cell_type": "code",
   "execution_count": 2,
   "metadata": {},
   "outputs": [],
   "source": [
    "b=0.61 #diametro del pilote (m)\n",
    "z=np.array([0.1 ,0.6, 1.5, 3, 12])"
   ]
  },
  {
   "cell_type": "markdown",
   "metadata": {},
   "source": [
    "1. Obtener la resistencia no drenada cu, el peso específico sumergido gamma_sum, el diámetro del pilote b y seleccionar la profundidad z en donde se quiera trazar la curva.\n"
   ]
  },
  {
   "cell_type": "code",
   "execution_count": 3,
   "metadata": {},
   "outputs": [],
   "source": [
    "#Valores obtenidos de tabla\n",
    "gamma_sum=6.9 #peso especico del suelo sumergido (kN/m3)\n",
    "eps_50=0.005 #deformacion especifica al 50% de cu\n",
    "cu=100 #resistencia no drenada ultima (kPa)"
   ]
  },
  {
   "attachments": {},
   "cell_type": "markdown",
   "metadata": {},
   "source": [
    "2. Calcular la resistencia al corte media 𝑐𝑎 sobre la altura 𝑧."
   ]
  },
  {
   "cell_type": "code",
   "execution_count": 4,
   "metadata": {},
   "outputs": [],
   "source": [
    "#Asumiendo que el suelo es uniforme\n",
    "ca=cu #resistecia no drenada promedio sobre z"
   ]
  },
  {
   "attachments": {},
   "cell_type": "markdown",
   "metadata": {},
   "source": [
    "3. Calcular la resistencia al corte ultima por unidad de longitud de pilote"
   ]
  },
  {
   "cell_type": "code",
   "execution_count": 5,
   "metadata": {},
   "outputs": [
    {
     "name": "stdout",
     "output_type": "stream",
     "text": [
      "pct= [150.7209 294.3254 552.8135 671.     671.    ] kN/m\n"
     ]
    },
    {
     "data": {
      "image/png": "[encoded data removed]",
      "text/plain": [
       "<Figure size 432x288 with 1 Axes>"
      ]
     },
     "metadata": {
      "needs_background": "light"
     },
     "output_type": "display_data"
    }
   ],
   "source": [
    "#Escribo la funcion que calcula y compara valores\n",
    "def f_pct(gamma_sum,cu,ca,b,z):\n",
    "    pct1=2*ca*b+gamma_sum*b*z+2.83*ca*z\n",
    "    pct2=11*cu*b\n",
    "    \n",
    "    return np.minimum(pct1,pct2)\n",
    "\n",
    "#Calculo la resistencia ultima de cada curva\n",
    "pct=np.empty_like(z)\n",
    "i=0\n",
    "for zi in z:\n",
    "    pct[i]=f_pct(gamma_sum,cu,ca,b,zi)\n",
    "    i=i+1\n",
    "    \n",
    "plt.plot(z,pct,'r-o')\n",
    "plt.xlabel('z(m)')\n",
    "plt.ylabel('pult (kN/m)')\n",
    "print('pct=',pct,'kN/m')"
   ]
  },
  {
   "attachments": {},
   "cell_type": "markdown",
   "metadata": {},
   "source": [
    "4. Seleccionar un valor apropiado de 𝐴𝑠 (caso estático)"
   ]
  },
  {
   "cell_type": "code",
   "execution_count": 6,
   "metadata": {},
   "outputs": [
    {
     "name": "stdout",
     "output_type": "stream",
     "text": [
      "[ 0.16393443  0.98360656  2.45901639  4.91803279 19.67213115]\n"
     ]
    }
   ],
   "source": [
    "print(z/b) #por ahora manualmente del grafico\n",
    "As=np.array([0.2, 0.45, 0.6, 0.6, 0.6])"
   ]
  },
  {
   "attachments": {},
   "cell_type": "markdown",
   "metadata": {},
   "source": [
    "6. Computar 𝑦_50 utilizando valores de 𝜀_50 obtenido por ensayos"
   ]
  },
  {
   "cell_type": "code",
   "execution_count": 7,
   "metadata": {},
   "outputs": [
    {
     "name": "stdout",
     "output_type": "stream",
     "text": [
      "y_50= 0.00305 m\n"
     ]
    }
   ],
   "source": [
    "y_50=eps_50*b\n",
    "print('y_50=',y_50,'m')"
   ]
  },
  {
   "cell_type": "markdown",
   "metadata": {},
   "source": [
    "5,7,8,9,10. - Curva p-y "
   ]
  },
  {
   "cell_type": "code",
   "execution_count": null,
   "metadata": {},
   "outputs": [],
   "source": [
    "rs2"
   ]
  }
 ],
 "metadata": {
  "kernelspec": {
   "display_name": "intse",
   "language": "python",
   "name": "intse"
  },
  "language_info": {
   "codemirror_mode": {
    "name": "ipython",
    "version": 3
   },
   "file_extension": ".py",
   "mimetype": "text/x-python",
   "name": "python",
   "nbconvert_exporter": "python",
   "pygments_lexer": "ipython3",
   "version": "3.7.3"
  }
 },
 "nbformat": 4,
 "nbformat_minor": 2
}
