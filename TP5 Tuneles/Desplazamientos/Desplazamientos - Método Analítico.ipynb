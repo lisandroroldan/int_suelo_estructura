{
 "cells": [
  {
   "cell_type": "markdown",
   "metadata": {},
   "source": [
    "# Desplazamientos y tensiones en el suelo - Método analítico"
   ]
  },
  {
   "cell_type": "code",
   "execution_count": 17,
   "metadata": {},
   "outputs": [],
   "source": [
    "import numpy as np\n",
    "import matplotlib.cm as cm\n",
    "import matplotlib.pyplot as plt"
   ]
  },
  {
   "cell_type": "markdown",
   "metadata": {},
   "source": [
    "Solución anañítica cerrada para un médio semi-infinito con un túnel circular. Estas ecuaciones pueden ser utilizadas para estimar desplazamientos en suelos blandos, produciendo resultados conservadores en rocas. No se consideran cargas exteriores. \n",
    "\n",
    "Los desplazamientos verticales (Uz) y horizontales (Ux) son función de: radio de túnel excavado (R), coeficiente de Poisson del suelo (nu), profundidad del hastial (H), perdida de suelo promedio (eps0), ángulo de fricción interna del suelo (phi).\n"
   ]
  },
  {
   "cell_type": "code",
   "execution_count": 66,
   "metadata": {},
   "outputs": [],
   "source": [
    "#Definición de funciones\n",
    "\n",
    "def Uz(x,z,R,nu,H,eps0,phi):\n",
    "    #subdivido la ecuacion en partes para mejor manejo\n",
    "    beta=np.pi/2+np.deg2rad(phi)\n",
    "    a=eps0*R**2\n",
    "    b=-(z-H)/(x**2+(z-H)**2)\n",
    "    c=(3-4*nu)*(z+H)/(x**2+(z+H)**2)\n",
    "    d=-2*z*(x**2-(z-H)**2)/(x**2+(z+H)**2)**2\n",
    "    e=np.exp(-((1.38*x**2)/(H/np.tan(beta)+R)**2+(0.69*z**2)/(H**2)))\n",
    "    return -a*(b+c+d)*e\n",
    "\n",
    "def Ux(x,z,R,nu,H,eps0,phi):\n",
    "    #subdivido la ecuacion en partes para mejor manejo\n",
    "    beta=np.pi/2+np.deg2rad(phi)\n",
    "    a=eps0*R**2*x\n",
    "    b=1/(x**2+(H-z)**2)\n",
    "    c=(3-4*nu)/(x**2+(z+H)**2)\n",
    "    d=-4*z*(z+H)/(x**2+(z+H)**2)**2\n",
    "    e=np.exp(-((1.38*x**2)/(H/np.tan(beta)+R)**2+(0.69*z**2)/(H**2)))\n",
    "    return a*(b+c+d)*e\n",
    "\n",
    "def U(x,z,R,nu,H,eps0,phi):\n",
    "    #una simple suma de vectores\n",
    "    return np.sqrt(Ux(x,z,R,nu,H,eps0,phi)**2 + Uz(x,z,R,nu,H,eps0,phi)**2)\n",
    "    "
   ]
  },
  {
   "cell_type": "markdown",
   "metadata": {},
   "source": [
    "Definición de parámetros"
   ]
  },
  {
   "cell_type": "code",
   "execution_count": 13,
   "metadata": {},
   "outputs": [],
   "source": [
    "R=2 #radio de túnel excavado (m)\n",
    "nu=0.2 #coeficiente de Poisson del suelo (-)\n",
    "H=10 #profundidad del hastial\n",
    "eps0=0.02 #perdida de volumen (-)\n",
    "phi=30 #ángulo de friccion interna del suelo (°)"
   ]
  },
  {
   "cell_type": "markdown",
   "metadata": {},
   "source": [
    "Podemos obtener los desplazamientos para cada punto (x,z) del dominio"
   ]
  },
  {
   "cell_type": "code",
   "execution_count": 23,
   "metadata": {},
   "outputs": [
    {
     "name": "stdout",
     "output_type": "stream",
     "text": [
      "Uz= 0.0006361289979700355 m\n",
      "Ux= 0.0006361289979700355 m\n",
      "U= 0.0006361289979700355 m\n"
     ]
    }
   ],
   "source": [
    "x=5 #distancia al eje del túnel (m)\n",
    "z=-3 #profundidad desde nivel del suelo (m)\n",
    "\n",
    "print('Uz=',Uz(x,z,R,nu,H,eps0,phi),'m')\n",
    "print('Ux=',Uz(x,z,R,nu,H,eps0,phi),'m')\n",
    "print('U=',Uz(x,z,R,nu,H,eps0,phi),'m')"
   ]
  },
  {
   "cell_type": "markdown",
   "metadata": {},
   "source": [
    "O graficar un mapa de desplazamientos del terreno"
   ]
  },
  {
   "cell_type": "code",
   "execution_count": 67,
   "metadata": {},
   "outputs": [
    {
     "data": {
      "text/plain": [
       "Text(0.5, 1.0, 'Simplest default with labels')"
      ]
     },
     "execution_count": 67,
     "metadata": {},
     "output_type": "execute_result"
    },
    {
     "data": {
      "image/png": "[encoded data removed]",
      "text/plain": [
       "<Figure size 432x288 with 1 Axes>"
      ]
     },
     "metadata": {
      "needs_background": "light"
     },
     "output_type": "display_data"
    }
   ],
   "source": [
    "delta = 0.25\n",
    "x = np.arange(0, 10.0, delta)\n",
    "z = np.arange(0, 8, delta)\n",
    "X, Z = np.meshgrid(x, z)\n",
    "\n",
    "[NX,NZ]=X.shape\n",
    "\n",
    "Ux_store=np.zeros((NX,NZ))\n",
    "Uz_store=np.zeros((NX,NZ))\n",
    "U_store=np.zeros((NX,NZ))\n",
    "\n",
    "for nx in range(NX):\n",
    "    for nz in range(NZ):\n",
    "        xx=X[nx,nz]\n",
    "        zz=Z[nx,nz]\n",
    "        Ux_store[nx,nz]=Ux(xx,zz,R,nu,H,eps0,phi)\n",
    "        Uz_store[nx,nz]=Uz(xx,zz,R,nu,H,eps0,phi)\n",
    "        U_store[nx,nz]=U(xx,zz,R,nu,H,eps0,phi)\n",
    "\n",
    "fig, ax = plt.subplots()\n",
    "CS = ax.contour(X, Z, U_store)\n",
    "ax.clabel(CS, inline=1, fontsize=10)\n",
    "ax.set_title('Simplest default with labels')"
   ]
  },
  {
   "cell_type": "markdown",
   "metadata": {},
   "source": [
    "{1} N.Loganathan, H.G.Poulos, Fellow, ASCE - Analytical prediction for tunnel-induced ground movements in clays"
   ]
  }
 ],
 "metadata": {
  "kernelspec": {
   "display_name": "Python 3",
   "language": "python",
   "name": "python3"
  },
  "language_info": {
   "codemirror_mode": {
    "name": "ipython",
    "version": 3
   },
   "file_extension": ".py",
   "mimetype": "text/x-python",
   "name": "python",
   "nbconvert_exporter": "python",
   "pygments_lexer": "ipython3",
   "version": "3.7.0"
  }
 },
 "nbformat": 4,
 "nbformat_minor": 2
}
