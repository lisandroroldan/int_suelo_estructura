{
 "cells": [
  {
   "cell_type": "markdown",
   "metadata": {},
   "source": [
    "# Seguridad a la falla del frente de excavacion"
   ]
  },
  {
   "cell_type": "code",
   "execution_count": 1,
   "metadata": {},
   "outputs": [],
   "source": [
    "import numpy as np"
   ]
  },
  {
   "cell_type": "markdown",
   "metadata": {},
   "source": [
    "Se desea realizar la verificación de la segutidad a la falla del frente de excavación de un túnel mediante el método simplificado de Gonzales, Nuñez y Holgin.\n",
    "\n",
    "<img src=\"esquema.png\" style=\"width:400px\"/>\n",
    "\n",
    "Las propiedades geometricas del túnel son las siguientes"
   ]
  },
  {
   "cell_type": "code",
   "execution_count": 2,
   "metadata": {},
   "outputs": [],
   "source": [
    "A=5.70 #altura del túnel (m)\n",
    "D=10.30 #ancho del túnel (m)\n",
    "H=3.30 #profundidad de la clave (m)"
   ]
  },
  {
   "cell_type": "markdown",
   "metadata": {},
   "source": [
    "El mismo está construido en un suelo cohesivo-friccionante, cuya napa fue previamente deprimida"
   ]
  },
  {
   "cell_type": "code",
   "execution_count": 3,
   "metadata": {},
   "outputs": [],
   "source": [
    "gamma=1.90 #peso unitario del suelo (t/m3)\n",
    "phi=7 #angulo de fricción interna (°)\n",
    "c=16.5 #cohesion del suelo (t/m3)"
   ]
  },
  {
   "cell_type": "markdown",
   "metadata": {},
   "source": [
    "Se considera una sobrecarga actuando sobre la superficie"
   ]
  },
  {
   "cell_type": "code",
   "execution_count": 4,
   "metadata": {},
   "outputs": [],
   "source": [
    "qs=8.65 #sobrecarga superficial (t/m2)"
   ]
  },
  {
   "cell_type": "markdown",
   "metadata": {},
   "source": [
    "El túnel se realiza mediante métodos convencionales de excavación y se desea demostrar que la longitud de avance propuesta verifica una metodología de frente abierto, sin requerir la utilización de bancos de ataque o presiones interiores estabilizantes."
   ]
  },
  {
   "cell_type": "code",
   "execution_count": 5,
   "metadata": {},
   "outputs": [],
   "source": [
    "a=2 #longitud de avance (m)"
   ]
  },
  {
   "cell_type": "markdown",
   "metadata": {},
   "source": [
    "En primer lugar, calculamos la altura de descarga (Zd), que depende de la relacion entre ancho del túnel (H) y profundidad de la clave (D)"
   ]
  },
  {
   "cell_type": "code",
   "execution_count": 6,
   "metadata": {},
   "outputs": [
    {
     "name": "stdout",
     "output_type": "stream",
     "text": [
      "H/D= 0.3203883495145631 -> Zd= 3.3 m\n"
     ]
    }
   ],
   "source": [
    "if H/D >= 1.7:\n",
    "    Zd=1.7*D #túnel profundo\n",
    "else:\n",
    "    Zd=H #túnel somero\n",
    "print('H/D=',H/D,'-> Zd=',Zd,'m')    "
   ]
  },
  {
   "cell_type": "markdown",
   "metadata": {},
   "source": [
    "Y calculamos los coeficientes Kf y Kp en funcion del ángulo de fricción interna (phi)"
   ]
  },
  {
   "cell_type": "code",
   "execution_count": 7,
   "metadata": {},
   "outputs": [
    {
     "name": "stdout",
     "output_type": "stream",
     "text": [
      "Kf= 0.9707304417608545\n",
      "Kp= 1.2775653998408916\n"
     ]
    }
   ],
   "source": [
    "phi_rad=np.deg2rad(phi) #cambio de ° a rad\n",
    "\n",
    "Kf=(1-(np.sin(phi_rad))**2)/(1+(np.sin(phi_rad))**2)\n",
    "\n",
    "Kp=np.tan(np.deg2rad(45)+phi_rad/2)**2\n",
    "\n",
    "print('Kf=',Kf)\n",
    "print('Kp=',Kp)"
   ]
  },
  {
   "cell_type": "markdown",
   "metadata": {},
   "source": [
    "Si consideramos que no tenemos una presion de frente (taludes o slurry de TBM), la capacidad de carga del primer prisma (q) puede calcularse como"
   ]
  },
  {
   "cell_type": "code",
   "execution_count": 8,
   "metadata": {},
   "outputs": [
    {
     "name": "stdout",
     "output_type": "stream",
     "text": [
      "q= 6.27 t/m2\n"
     ]
    }
   ],
   "source": [
    "q_ast=2.7*c*np.sqrt(Kp)-1/2*gamma*A\n",
    "\n",
    "if q_ast > gamma*H:\n",
    "    q=gamma*H\n",
    "else:\n",
    "    q=q_ast\n",
    "\n",
    "print('q=',q,'t/m2')"
   ]
  },
  {
   "cell_type": "markdown",
   "metadata": {},
   "source": [
    "A continuación calculamos la resistencia media (sm) de las caras de los prismas 2 y 3. No se considera la existencia de una presion radial temporal."
   ]
  },
  {
   "cell_type": "code",
   "execution_count": 9,
   "metadata": {},
   "outputs": [
    {
     "name": "stdout",
     "output_type": "stream",
     "text": [
      "sm2= 16.39071516818547 t/m2\n",
      "sm3= 16.0170522890541 t/m2\n"
     ]
    }
   ],
   "source": [
    "sm2=Kf*c+1/2*(gamma*(H-Zd)+q)*Kf*np.tan(phi_rad)\n",
    "\n",
    "sm3=Kf*c+1/2*(gamma*(H-Zd))*Kf*np.tan(phi_rad)\n",
    "\n",
    "print('sm2=',sm2,'t/m2')\n",
    "print('sm3=',sm3,'t/m2')"
   ]
  },
  {
   "cell_type": "markdown",
   "metadata": {},
   "source": [
    "Verificamos el factor de seguridad en el frente (1)"
   ]
  },
  {
   "cell_type": "code",
   "execution_count": 10,
   "metadata": {},
   "outputs": [
    {
     "name": "stdout",
     "output_type": "stream",
     "text": [
      "FSf= 4.4419291496771605 > 1.4 (Verifica)\n"
     ]
    }
   ],
   "source": [
    "#descompono la expresión por practicidad\n",
    "\n",
    "af=2*sm2*Zd/D*(D*np.sqrt(Kp)/A+1)+2.7*c*np.sqrt(Kp)\n",
    "bf=gamma*H*(A/(3*H)+1)+qs\n",
    "\n",
    "FSf=af/bf\n",
    "\n",
    "if FSf>=1.4:\n",
    "    print('FSf=',FSf,'> 1.4 (Verifica)')\n",
    "else:\n",
    "    print('FSf=',FSf,'< 1.4 (No verifica)')\n",
    "        "
   ]
  },
  {
   "cell_type": "markdown",
   "metadata": {},
   "source": [
    "Verificamos el factor de seguridad contra la falla de la clave (2)"
   ]
  },
  {
   "cell_type": "code",
   "execution_count": 11,
   "metadata": {},
   "outputs": [
    {
     "name": "stdout",
     "output_type": "stream",
     "text": [
      "FSc= 4.230537965672623 > 1.4 (Verifica)\n"
     ]
    }
   ],
   "source": [
    "#descompono la expresión por practicidad\n",
    "\n",
    "ac=2*sm3*(a+D)*Zd\n",
    "bc=(gamma*H+qs)*a*D\n",
    "\n",
    "FSc=ac/bc\n",
    "\n",
    "if FSc>=1.4:\n",
    "    print('FSc=',FSc,'> 1.4 (Verifica)')\n",
    "else:\n",
    "    print('FSc=',FSc,'< 1.4 (No verifica)')"
   ]
  },
  {
   "cell_type": "markdown",
   "metadata": {},
   "source": [
    "Verificamos el factor de seguridad contra la falla local por plastificación de la clave (3)"
   ]
  },
  {
   "cell_type": "code",
   "execution_count": 12,
   "metadata": {},
   "outputs": [
    {
     "name": "stdout",
     "output_type": "stream",
     "text": [
      "FSp= 10.06692606823533 > 1.4 (Verifica)\n",
      "sigma_vp= 0.0 t/m2\n"
     ]
    }
   ],
   "source": [
    "if Kf*c>=0.3*gamma*H:\n",
    "    Zp=0 #no hay plastificación\n",
    "else:\n",
    "    ap=(0.3*gamma*H-Kf*c)*Zd\n",
    "    bp=Kf*gamma*(H-Zd)*np.tan(phi_rad)+0.3*gamma*H\n",
    "    Zp=ap/bp # hay plastificación\n",
    "    \n",
    "R=D/a+1\n",
    "\n",
    "sigma_vp=(2*Kf*c-gamma*D/R)*(np.exp(2*Kf*R*np.tan(phi_rad)*Zp/D)-1)/(2*Kf*np.tan(phi_rad))\n",
    "\n",
    "FSp=2*Kf*c*(1+D/a)/(gamma*D)\n",
    "\n",
    "if FSf>=1.4:\n",
    "    print('FSp=',FSp,'> 1.4 (Verifica)')\n",
    "else:\n",
    "    print('FSp=',FSp,'< 1.4 (No verifica)')\n",
    "\n",
    "print('sigma_vp=',sigma_vp,'t/m2')"
   ]
  },
  {
   "cell_type": "markdown",
   "metadata": {},
   "source": [
    "Y finalmente el factor de seguridad general (4)"
   ]
  },
  {
   "cell_type": "code",
   "execution_count": 13,
   "metadata": {},
   "outputs": [
    {
     "name": "stdout",
     "output_type": "stream",
     "text": [
      "FSg= 3.7319002571355733 > 1.4 (Verifica)\n"
     ]
    }
   ],
   "source": [
    "L=A*np.tan(np.deg2rad(45)+phi_rad/2)\n",
    "\n",
    "#descompongo la expresión por practicidad\n",
    "ag=2*sm2*(D/L*(1+a/L)+1+2*a/L)*Zd/D\n",
    "bg=2*sm3*(a/L)**2*Zd/D\n",
    "cg=2.7*c*np.sqrt(Kp)*(1+2*a/L)\n",
    "dg=gamma*H*(A/H*(1/3+a/L)+(1+a/L)**2)\n",
    "eg=qs*(1+a/L)**2\n",
    "\n",
    "FSg=(ag+bg+cg)/(dg+eg)\n",
    "\n",
    "if FSg>=1.4:\n",
    "    print('FSg=',FSg,'> 1.4 (Verifica)')\n",
    "else:\n",
    "    print('FSg=',FSg,'< 1.4 (No verifica)')"
   ]
  },
  {
   "cell_type": "markdown",
   "metadata": {},
   "source": [
    "Referencias:\n",
    "\n",
    "{1} E. Tamez Gonzales, J.L. Rangel Nuñez y E. Holguín, Diseño Geotécnico de Túneles, 1ed, México DF, TGC Geotecnia, 1997"
   ]
  }
 ],
 "metadata": {
  "kernelspec": {
   "display_name": "Python 3",
   "language": "python",
   "name": "python3"
  },
  "language_info": {
   "codemirror_mode": {
    "name": "ipython",
    "version": 3
   },
   "file_extension": ".py",
   "mimetype": "text/x-python",
   "name": "python",
   "nbconvert_exporter": "python",
   "pygments_lexer": "ipython3",
   "version": "3.7.0"
  }
 },
 "nbformat": 4,
 "nbformat_minor": 2
}
