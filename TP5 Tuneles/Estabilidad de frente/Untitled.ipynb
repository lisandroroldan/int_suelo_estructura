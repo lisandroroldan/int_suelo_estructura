{
 "cells": [
  {
   "cell_type": "markdown",
   "metadata": {},
   "source": [
    "# Seguridad a la falla del frente de excavacion"
   ]
  },
  {
   "cell_type": "markdown",
   "metadata": {},
   "source": [
    "Se desea realizar la verificación de la segutidad a la falla del frente de excavación de un túnel mediante el método simplificado de Gonzales, Nuñez y Holgin.\n",
    "\n",
    "<img src=\"esquema.png\" style=\"width:400px\"/>\n",
    "\n",
    "Las propiedades geometricas del túnel son las siguientes"
   ]
  },
  {
   "cell_type": "code",
   "execution_count": 1,
   "metadata": {},
   "outputs": [],
   "source": [
    "A=5.70 #altura del túnel (m)\n",
    "D=10.30 #ancho del túnel (m)\n",
    "H=3.30 #profundidad de la clave (m)"
   ]
  },
  {
   "cell_type": "markdown",
   "metadata": {},
   "source": [
    "El mismo está construido en un suelo cohesivo-friccionante, cuya napa fue previamente deprimida"
   ]
  },
  {
   "cell_type": "code",
   "execution_count": 2,
   "metadata": {},
   "outputs": [],
   "source": [
    "gamma=1.90 #peso unitario del suelo (t/m3)\n",
    "phi=7 #angulo de fricción interna (°)\n",
    "c=16.5 #cohesion del suelo (t/m3)"
   ]
  },
  {
   "cell_type": "markdown",
   "metadata": {},
   "source": [
    "Se considera una sobrecarga actuando sobre la superficie"
   ]
  },
  {
   "cell_type": "code",
   "execution_count": 4,
   "metadata": {},
   "outputs": [],
   "source": [
    "qs=8.65 #sobrecarga superficial (t/m2)"
   ]
  },
  {
   "cell_type": "markdown",
   "metadata": {},
   "source": [
    "El túnel se realiza mediante métodos convencionales de excavación y se desea demostrar que la longitud de avance propuesta verifica una metodología de frente abierto, sin requerir la utilización de bancos de ataque o presiones interiores estabilizantes."
   ]
  },
  {
   "cell_type": "code",
   "execution_count": 3,
   "metadata": {},
   "outputs": [],
   "source": [
    "a=2 #longitud de avance (m)"
   ]
  }
 ],
 "metadata": {
  "kernelspec": {
   "display_name": "Python 3",
   "language": "python",
   "name": "python3"
  },
  "language_info": {
   "codemirror_mode": {
    "name": "ipython",
    "version": 3
   },
   "file_extension": ".py",
   "mimetype": "text/x-python",
   "name": "python",
   "nbconvert_exporter": "python",
   "pygments_lexer": "ipython3",
   "version": "3.7.3"
  }
 },
 "nbformat": 4,
 "nbformat_minor": 2
}
