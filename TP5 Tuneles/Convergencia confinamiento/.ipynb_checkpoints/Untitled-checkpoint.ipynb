{
 "cells": [
  {
   "cell_type": "code",
   "execution_count": 1,
   "metadata": {},
   "outputs": [],
   "source": [
    "import numpy as np\n",
    "import matplotlib.pyplot as plt"
   ]
  },
  {
   "cell_type": "code",
   "execution_count": 137,
   "metadata": {},
   "outputs": [],
   "source": [
    "Z0=6.39 #profundidad del eje del túnel (m)\n",
    "D=4.93 #ancho del túnel (m)\n",
    "R=D/2\n",
    "t=0.15 #espesor del revestimiento (m)\n",
    "H=6.78 #altura del túnel"
   ]
  },
  {
   "cell_type": "code",
   "execution_count": 135,
   "metadata": {},
   "outputs": [],
   "source": [
    "gamma_s=19 #peso específico del suelo (kN/m3)\n",
    "phi=30 #angulo de fricción interna (°)\n",
    "c=15 #cohesion (kPa)\n",
    "psi=1 #coeficiente de fractura de la corona plastificada (1=fragil, 0:ductil)\n",
    "nus=0.3 #coeficiente de Poisson del suelo (-)\n",
    "Es=5e4 #módulo de elasticidad del suelo (kPa)\n",
    "K0=0.6"
   ]
  },
  {
   "cell_type": "code",
   "execution_count": 128,
   "metadata": {},
   "outputs": [],
   "source": [
    "fc=30 #resistencia a la compresión simple del hormigón (MPa)\n",
    "Ec=4600*np.sqrt(fc)*1000 #módulo de elasticidad del hormigón (kPa)\n",
    "nuc=0.16"
   ]
  },
  {
   "cell_type": "markdown",
   "metadata": {},
   "source": [
    "(1) Curva desplazamiento-presion del suelo\n",
    "\n",
    "En primer lugar calculamos el estado inicial de esfuerzos en la masa de suelo"
   ]
  },
  {
   "cell_type": "code",
   "execution_count": 3,
   "metadata": {},
   "outputs": [
    {
     "name": "stdout",
     "output_type": "stream",
     "text": [
      "sigma_0= 121.41 kN\n"
     ]
    }
   ],
   "source": [
    "sigma_0=gamma_s*Z0 #tensiones iniciales en el eje del túnel (kN/m2)\n",
    "print('sigma_0=',sigma_0,'kN')"
   ]
  },
  {
   "cell_type": "markdown",
   "metadata": {},
   "source": [
    "Ecuaciones que definen la curva de convergencia del suelo. Las escribo en forma de función."
   ]
  },
  {
   "cell_type": "code",
   "execution_count": 112,
   "metadata": {},
   "outputs": [],
   "source": [
    "phi_rad=np.deg2rad(phi)\n",
    "\n",
    "pal=sigma_0*(1-np.sin(phi_rad))-c*np.cos(phi_rad) #tension limite de plastificación (kPa)\n",
    "\n",
    "def ue(pa):\n",
    "    #ecuación de desplazamiento en la clave en regimen elástico del suelo (m)\n",
    "    return (gamma_s*Z0-pa)*(1+nus)*D/(2*Es) \n",
    "\n",
    "uel=ue(pal) #desplazamiento de la clave en el límite de plastificación (m)\n",
    "\n",
    "\n",
    "def Rp(pa):\n",
    "    #radio de plastificación (m)\n",
    "    pot=(1-np.sin(phi_rad))/(2*np.sin(phi_rad))\n",
    "    return D/2*((1-np.sin(phi_rad))*(gamma_s*Z0+c/np.tan(phi_rad))/(pa+c/np.tan(phi_rad)))**pot #\n",
    "\n",
    "def ca(pa):\n",
    "    #coeficiente auxiliar para la ecuación en regimen plastico\n",
    "    return (2*(1+nus))/Es*(gamma_s*Z0+c/np.tan(phi_rad))*np.sin(phi_rad)*(Rp(pa)/R)**2\n",
    "\n",
    "def up(pa):\n",
    "    #ecuación de desplazamiento en la clave en regimen plástico\n",
    "    return R*(1-np.sqrt(1/(1+ca(pa))))\n",
    "\n",
    "def pa(p):\n",
    "    #presión corregida\n",
    "    if p >= pal:\n",
    "        return p\n",
    "    else:\n",
    "        return p+gamma_s*(Rp(p)-D/2)*psi\n",
    "             \n",
    "def us(p):\n",
    "    #ecuación de desplazamiento en la clave completa\n",
    "    if pa(p)>=pal:\n",
    "        return ue(p)\n",
    "    else:\n",
    "        return up(p)"
   ]
  },
  {
   "cell_type": "markdown",
   "metadata": {},
   "source": [
    "Ploteamos la curva del suelo. Sobre la linea punteada el suelo se encuentra en régimen elástico mientras que por debajo ya hay plastificación."
   ]
  },
  {
   "cell_type": "code",
   "execution_count": 121,
   "metadata": {},
   "outputs": [
    {
     "data": {
      "image/png": "[encoded data removed]",
      "text/plain": [
       "<Figure size 432x288 with 1 Axes>"
      ]
     },
     "metadata": {
      "needs_background": "light"
     },
     "output_type": "display_data"
    },
    {
     "name": "stdout",
     "output_type": "stream",
     "text": [
      "Tension de plastificacion= 47.71461894323342 kPa\n"
     ]
    }
   ],
   "source": [
    "p=np.linspace(0.0, 1000.0, num=1000)\n",
    "N=p.size\n",
    "u_s=np.zeros(N)\n",
    "p_a=np.zeros(N)\n",
    "for i in range(N):\n",
    "    p_a[i]=pa(p[i])\n",
    "    u_s[i]=us(p[i])\n",
    "\n",
    "#plot y formato\n",
    "plt.plot(u_s*1000,p_a) #curva\n",
    "plt.plot([0, 15], [pal, pal], 'k-.')\n",
    "axes = plt.gca()\n",
    "axes.set_xlim([0,14])\n",
    "axes.set_ylim([0,1.2*gamma_s*Z0])\n",
    "plt.grid(color='grey', linestyle='--')\n",
    "plt.xlabel('us (mm)')\n",
    "plt.ylabel('pa (kPa)')\n",
    "plt.title('Curva de convergencia del suelo')\n",
    "plt.show()\n",
    "\n",
    "print('Tension de plastificacion=',pal,'kPa')"
   ]
  },
  {
   "cell_type": "code",
   "execution_count": 141,
   "metadata": {},
   "outputs": [
    {
     "name": "stdout",
     "output_type": "stream",
     "text": [
      "4.742198541280842e-05\n"
     ]
    }
   ],
   "source": [
    "k=Ec/(1+nuc)*(R**2-(R-t)**2)/((1-2*nuc)*R**2+(R-t)**2) #rigidez del sostenimiento\n",
    "\n",
    "uc=gamma_s*Z0*((D+H)/2)**2/(4*t*Ec) #dezplazamiento por compresión uniforme\n",
    "\n",
    "udmax=1/2*(1-K0)*gamma_s*Z0*(1+nus)*D/(2*k) #desplazamiento en clave (por diferencia entre presiones vert. y horiz.)\n",
    "\n",
    "print(udmax)"
   ]
  }
 ],
 "metadata": {
  "kernelspec": {
   "display_name": "Python 3",
   "language": "python",
   "name": "python3"
  },
  "language_info": {
   "codemirror_mode": {
    "name": "ipython",
    "version": 3
   },
   "file_extension": ".py",
   "mimetype": "text/x-python",
   "name": "python",
   "nbconvert_exporter": "python",
   "pygments_lexer": "ipython3",
   "version": "3.7.0"
  }
 },
 "nbformat": 4,
 "nbformat_minor": 2
}
